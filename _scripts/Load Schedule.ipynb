{
 "cells": [
  {
   "cell_type": "code",
   "execution_count": 19,
   "metadata": {},
   "outputs": [],
   "source": [
    "import pandas as pd\n",
    "google_sheet_url = \"https://docs.google.com/spreadsheets/d/1rLWdVLmoQAI0bRb8zck3-RFQqDOq3WS8s82v5G2hok8/export?format=csv&id=1rLWdVLmoQAI0bRb8zck3-RFQqDOq3WS8s82v5G2hok8&gid=0\"\n",
    "df=pd.read_csv(google_sheet_url).fillna(\"\")\n",
    "df[\"Papers\"] =df[\"Papers\"].apply(lambda x: \"<ul>\"+''.join([f'<li><a href=\"{e}\">{e}</a></li>' for e in x.split(\"\\n\")])+\"</ul>\" if x.strip()!= \"\" else \"\")\n"
   ]
  },
  {
   "cell_type": "code",
   "execution_count": 20,
   "metadata": {},
   "outputs": [
    {
     "name": "stdout",
     "output_type": "stream",
     "text": [
      "\n",
      "<table class=\"table\">\n",
      "    <th>Date</th><th>Type</th><th>Title</th><th>Speaker</th><th>Role</th><th>Affiliation</th><th>Papers</th>\n",
      "    <tr><td>9/5</td><td>Invited Speaker</td><td>Disease Phenotype Identification</td><td>Holger Hoefling</td><td>Lead of Scientific Data Analysis - Machine Learning and Quantative Analysis</td><td>Novartis</td><td><ul><li><a href=\"https://doi.org/10.1038/s41591-019-0508-1\">https://doi.org/10.1038/s41591-019-0508-1</a></li><li><a href=\"https://doi.org/10.1001/jama.2017.14585\">https://doi.org/10.1001/jama.2017.14585</a></li><li><a href=\"https://doi.org/10.1016/j.media.2017.07.005.\">https://doi.org/10.1016/j.media.2017.07.005.</a></li></ul></td></tr><tr><td>9/10</td><td>Lecture</td><td>Overview of Target Identification</td><td>David Gifford</td><td>Professor</td><td>MIT</td><td></td></tr><tr><td>9/12</td><td>Invited Speaker</td><td>Systems Biology Based Target Identification</td><td>Ernest Frankel</td><td>Professor</td><td>MIT</td><td><ul><li><a href=\"https://www.sciencedirect.com/science/article/pii/S1535610818303581?via%3Dihub\">https://www.sciencedirect.com/science/article/pii/S1535610818303581?via%3Dihub</a></li><li><a href=\"https://www.nature.com/articles/nmeth.3940\">https://www.nature.com/articles/nmeth.3940</a></li><li><a href=\"https://www.nature.com/articles/ng.3371\">https://www.nature.com/articles/ng.3371</a></li></ul></td></tr><tr><td>9/17</td><td>Lecture</td><td>Small Molecule Therapeutic Design</td><td>David Gifford</td><td>Professor</td><td>MIT</td><td><ul><li><a href=\"https://www.nature.com/articles/s41563-019-0338-z\">https://www.nature.com/articles/s41563-019-0338-z</a></li><li><a href=\"https://pubs.acs.org/doi/10.1021/acs.molpharmaceut.8b00839\">https://pubs.acs.org/doi/10.1021/acs.molpharmaceut.8b00839</a></li></ul></td></tr><tr><td>9/19</td><td>Presentation</td><td>Presentation on Small Molecule Design</td><td></td><td></td><td></td><td></td></tr><tr><td>9/24</td><td>Presentation</td><td>Presentation on on Computer-Aided Drug Discovery</td><td></td><td></td><td></td><td></td></tr><tr><td>9/26</td><td>Invited Speaker</td><td></td><td>Jose Duca</td><td>Global Head of Computer-Aided Drug Discovery</td><td>Novartis</td><td></td></tr><tr><td>10/1</td><td>Presentation</td><td>Presentation for October 3rd</td><td></td><td></td><td></td><td></td></tr><tr><td>10/3</td><td>Invited Speaker</td><td></td><td>Birgit Schoeberl</td><td></td><td></td><td></td></tr><tr><td>10/8</td><td>Invited Speaker</td><td>Junction Tree representations of small molecules</td><td>Tommi Jaakola</td><td></td><td></td><td></td></tr><tr><td>10/10</td><td>Invited Speaker</td><td></td><td>Jeremy Jenkins</td><td>Head of Data Science in Chemical Biology & Therapeutics,</td><td>Novartis</td><td><ul><li><a href=\"https://www.ncbi.nlm.nih.gov/m/pubmed/24933016\">https://www.ncbi.nlm.nih.gov/m/pubmed/24933016</a></li><li><a href=\"https://www.ncbi.nlm.nih.gov/m/pubmed/16426055\">https://www.ncbi.nlm.nih.gov/m/pubmed/16426055</a></li><li><a href=\"https://www.ncbi.nlm.nih.gov/m/pubmed/18066055\">https://www.ncbi.nlm.nih.gov/m/pubmed/18066055</a></li></ul></td></tr><tr><td>10/15</td><td>Holiday</td><td>Enjoy The Holiday!</td><td></td><td></td><td></td><td></td></tr><tr><td>10/17</td><td>Invited Speaker</td><td></td><td>Alex Zhavoronkov,</td><td>Founder and CEO</td><td>Insilico Medicine</td><td><ul><li><a href=\"https://www.nature.com/articles/s41587-019-0224-x\">https://www.nature.com/articles/s41587-019-0224-x</a></li><li><a href=\"https://arxiv.org/abs/1811.12823\">https://arxiv.org/abs/1811.12823</a></li><li><a href=\"https://www.nature.com/articles/ncomms13427\">https://www.nature.com/articles/ncomms13427</a></li></ul></td></tr><tr><td>10/22</td><td>Lecture</td><td>Design of Protein Therapeutics  (Biologics I) </td><td>David Gifford</td><td>Professor</td><td>MIT</td><td></td></tr><tr><td>10/24</td><td>Invited Speaker</td><td>Synthetic Biology Approaches to Disease Therapeutics</td><td>Ron Weiss</td><td>Professor</td><td>MIT</td><td></td></tr><tr><td>10/29</td><td></td><td>Presentation on Vaccine Design</td><td></td><td></td><td></td><td></td></tr><tr><td>10/31</td><td>Invited Speaker</td><td>Design of Peptide Vaccines</td><td>Cathy Wu</td><td>Professor</td><td>Harvard Medical School</td><td></td></tr><tr><td>11/5</td><td></td><td>Discussion of cellular therapies</td><td></td><td></td><td></td><td><ul><li><a href=\"https://www.sciencedirect.com/science/article/pii/S2329050118300330\">https://www.sciencedirect.com/science/article/pii/S2329050118300330</a></li></ul></td></tr><tr><td>11/7</td><td>Invited Speaker</td><td>Regenerative cell based therapies</td><td>Doug Melton</td><td>Professor</td><td>Harvard</td><td></td></tr><tr><td>11/12</td><td></td><td>Presentation on Gene Editing </td><td></td><td></td><td></td><td></td></tr><tr><td>11/14</td><td></td><td>Speaker TBA</td><td></td><td></td><td></td><td></td></tr><tr><td>11/19</td><td>Invited Speaker</td><td>Cellular immune therapies</td><td>Michael Birnbaum</td><td>Professor</td><td>MIT</td><td></td></tr><tr><td>11/21</td><td></td><td>Discussion of cellular immune therapies</td><td></td><td></td><td></td><td></td></tr><tr><td>11/26</td><td>No class</td><td></td><td></td><td></td><td></td><td></td></tr><tr><td>11/28</td><td>Holiday</td><td>Enjoy the Holiday!</td><td></td><td></td><td></td><td></td></tr><tr><td>12/3</td><td>Project Presentations</td><td></td><td></td><td></td><td></td><td></td></tr><tr><td>12/5</td><td>Project Presentations</td><td></td><td></td><td></td><td></td><td></td></tr><tr><td>12/10</td><td>Project Presentations</td><td></td><td></td><td></td><td></td><td></td></tr>\n",
      "</table>\n"
     ]
    }
   ],
   "source": [
    "print(f\"\"\"\n",
    "<table class=\"table\">\n",
    "    {\"\".join([f\"<th>{v}</th>\" for v in df.columns])}\n",
    "    {\"\".join([f\"<tr>{l}</tr>\" for l in df.apply(lambda x:\"\".join([f\"<td>{v}</td>\" for v in x]), axis =1)])}\n",
    "</table>\"\"\")"
   ]
  },
  {
   "cell_type": "code",
   "execution_count": 15,
   "metadata": {},
   "outputs": [
    {
     "name": "stdout",
     "output_type": "stream",
     "text": [
      "<pmcids status=\"ok\">\n",
      "<request idtype=\"doi\" dois=\"\" versions=\"yes\" showaiid=\"no\">\n",
      "<echo>tool=my_tool;retmode=json;email=my_email%40example.com;ids=10.1093%2Fnar%2Fgks1195%2C10.1001%2Fjama.2017.14585</echo>\n",
      "</request>\n",
      "<record requested-id=\"10.1093/NAR/GKS1195\" pmcid=\"PMC3531190\" pmid=\"23193287\" doi=\"10.1093/nar/gks1195\"><versions><version pmcid=\"PMC3531190.1\" current=\"true\"/></versions></record>\n",
      "<record requested-id=\"10.1001/JAMA.2017.14585\" pmcid=\"PMC5820737\" pmid=\"29234806\" doi=\"10.1001/jama.2017.14585\"><versions><version pmcid=\"PMC5820737.1\" current=\"true\"/></versions></record>\n",
      "</pmcids>\n",
      "\n"
     ]
    }
   ],
   "source": [
    "import urllib.request, json \n",
    "\n",
    "\n",
    "with urllib.request.urlopen(\"https://www.ncbi.nlm.nih.gov/pmc/utils/idconv/v1.0/?tool=my_tool&retmode=json&email=my_email@example.com&ids=10.1093/nar/gks1195,10.1001/jama.2017.14585\") as url:\n",
    "    records = (url.read().decode())\n",
    "    print(records)"
   ]
  },
  {
   "cell_type": "code",
   "execution_count": 16,
   "metadata": {},
   "outputs": [
    {
     "name": "stdout",
     "output_type": "stream",
     "text": [
      "{'header': {'type': 'esummary', 'version': '0.3'}, 'result': {'uids': ['3539452'], '3539452': {'uid': '3539452', 'pubdate': '2012 Feb 23', 'epubdate': '2012 Feb 23', 'printpubdate': '2013 Feb', 'source': 'Cereb Cortex', 'authors': [{'name': 'Kind PC', 'authtype': 'Author'}, {'name': 'Sengpiel F', 'authtype': 'Author'}, {'name': 'Beaver CJ', 'authtype': 'Author'}, {'name': 'Crocker-Buque A', 'authtype': 'Author'}, {'name': 'Kelly GM', 'authtype': 'Author'}, {'name': 'Matthews RT', 'authtype': 'Author'}, {'name': 'Mitchell DE', 'authtype': 'Author'}], 'title': 'The Development and Activity-Dependent Expression of Aggrecan in the Cat Visual Cortex', 'volume': '23', 'issue': '2', 'pages': '349-360', 'articleids': [{'idtype': 'pmid', 'value': '22368089'}, {'idtype': 'doi', 'value': '10.1093/cercor/bhs015'}, {'idtype': 'pmcid', 'value': 'PMC3539452'}], 'fulljournalname': 'Cerebral Cortex (New York, NY)', 'sortdate': '2012/02/23 00:00', 'pmclivedate': '2014/02/01'}}}\n"
     ]
    }
   ],
   "source": [
    "import urllib.request, json \n",
    "\n",
    "\n",
    "with urllib.request.urlopen(\"https://eutils.ncbi.nlm.nih.gov/entrez/eutils/esummary.fcgi?db=pmc&id=3539452&retmode=json\") as url:\n",
    "    data = json.loads(url.read().decode())\n",
    "    print(data)"
   ]
  },
  {
   "cell_type": "code",
   "execution_count": null,
   "metadata": {},
   "outputs": [],
   "source": [
    "\"https://www.ncbi.nlm.nih.gov/pmc/utils/idconv/v1.0/?tool=my_tool&email=my_email@example.com&ids=10.1093/nar/gks1195,10.1038/s41591-019-0508-1\""
   ]
  }
 ],
 "metadata": {
  "kernelspec": {
   "display_name": "Python 3",
   "language": "python",
   "name": "python3"
  },
  "language_info": {
   "codemirror_mode": {
    "name": "ipython",
    "version": 3
   },
   "file_extension": ".py",
   "mimetype": "text/x-python",
   "name": "python",
   "nbconvert_exporter": "python",
   "pygments_lexer": "ipython3",
   "version": "3.7.3"
  }
 },
 "nbformat": 4,
 "nbformat_minor": 4
}
