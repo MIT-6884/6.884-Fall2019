{
 "cells": [
  {
   "cell_type": "code",
   "execution_count": 20,
   "metadata": {},
   "outputs": [],
   "source": [
    "import pandas as pd\n",
    "google_sheet_url = \"https://docs.google.com/spreadsheets/d/1rLWdVLmoQAI0bRb8zck3-RFQqDOq3WS8s82v5G2hok8/export?format=csv&id=1rLWdVLmoQAI0bRb8zck3-RFQqDOq3WS8s82v5G2hok8&gid=0\"\n",
    "df=pd.read_csv(google_sheet_url).fillna(\"\")"
   ]
  },
  {
   "cell_type": "code",
   "execution_count": 22,
   "metadata": {},
   "outputs": [
    {
     "name": "stdout",
     "output_type": "stream",
     "text": [
      "\n",
      "<table class=\"table\">\n",
      "    <th>Date</th><th>Type</th><th>Title</th><th>Speaker</th><th>Role</th><th>Affiliation</th><th>Papers</th>\n",
      "    <tr><td>9/5</td><td>Invited Speaker</td><td>Disease Phenotype Identification</td><td>Holger Hoefling</td><td>Lead of Scientific Data Analysis - Machine Learning and Quantative Analysis</td><td>Novartis</td><td>https://doi.org/10.1038/s41591-019-0508-1\n",
      "https://doi.org/10.1001/jama.2017.14585\n",
      "https://doi.org/10.1016/j.media.2017.07.005.</td></tr><tr><td>9/10</td><td>Lecture</td><td>Overview of Target Identification</td><td>David Gifford</td><td>Professor</td><td>MIT</td><td></td></tr><tr><td>9/12</td><td>Invited Speaker</td><td>Systems Biology Based Target Identification</td><td>Ernest Frankel</td><td>Professor</td><td>MIT</td><td></td></tr><tr><td>9/17</td><td>Lecture</td><td>Small Molecule Therapeutic Design</td><td>David Gifford</td><td>Professor</td><td>MIT</td><td>https://www.nature.com/articles/s41563-019-0338-z\n",
      "https://pubs.acs.org/doi/10.1021/acs.molpharmaceut.8b00839</td></tr><tr><td>9/19</td><td>Presentation</td><td>Presentation on Small Molecule Design</td><td></td><td></td><td></td><td></td></tr><tr><td>9/24</td><td>Presentation</td><td>Presentation on on Computer-Aided Drug Discovery</td><td></td><td></td><td></td><td></td></tr><tr><td>9/26</td><td>Invited Speaker</td><td></td><td>Jose Duca</td><td>Global Head of Computer-Aided Drug Discovery</td><td>Novartis</td><td></td></tr><tr><td>10/1</td><td>Presentation</td><td>Presentation for October 3rd</td><td></td><td></td><td></td><td></td></tr><tr><td>10/3</td><td>Invited Speaker</td><td></td><td>Birgit Schoeberl</td><td></td><td></td><td></td></tr><tr><td>10/8</td><td>Invited Speaker</td><td>Junction Tree representations of small molecules</td><td>Tommi Jaakola</td><td></td><td></td><td></td></tr><tr><td>10/10</td><td>Invited Speaker</td><td></td><td>Jeremy Jenkins</td><td>Head of Data Science in Chemical Biology & Therapeutics,</td><td>Novartis</td><td>https://www.ncbi.nlm.nih.gov/m/pubmed/24933016\n",
      "https://www.ncbi.nlm.nih.gov/m/pubmed/16426055\n",
      "https://www.ncbi.nlm.nih.gov/m/pubmed/18066055</td></tr><tr><td>10/15</td><td>Holiday</td><td>Enjoy The Holiday!</td><td></td><td></td><td></td><td></td></tr><tr><td>10/17</td><td>Invited Speaker</td><td></td><td>Alex Zhavoronkov,</td><td>Founder and CEO</td><td>Insilico Medicine</td><td>https://www.nature.com/articles/ncomms13427</td></tr><tr><td>10/22</td><td>Lecture</td><td> Design of Protein Therapeutics  (Biologics I) </td><td>David Gifford</td><td>Professor</td><td>MIT</td><td></td></tr><tr><td>10/24</td><td>Lecture</td><td>Presentation on Cellular Therapeutics  (Biologics II) </td><td>David Gifford</td><td>Professor</td><td>MIT</td><td></td></tr><tr><td>10/29</td><td></td><td>Presentation on Vaccine Design</td><td></td><td></td><td></td><td></td></tr><tr><td>10/31</td><td>Invited Speaker</td><td>Design of Peptide Vaccines</td><td>Cathy Wu</td><td>Professor</td><td>Harvard Medical School</td><td></td></tr><tr><td>11/5</td><td></td><td>Discussion of cellular therapies</td><td></td><td></td><td></td><td>https://www.sciencedirect.com/science/article/pii/S2329050118300330</td></tr><tr><td>11/7</td><td>Invited Speaker</td><td>Regenerative cell based therapies</td><td>Doug Melton</td><td>Professor</td><td>Harvard</td><td></td></tr><tr><td>11/12</td><td></td><td>Presentation on Gene Editing </td><td></td><td></td><td></td><td></td></tr><tr><td>11/14</td><td></td><td>[CRISPR speaker TBD]</td><td></td><td></td><td></td><td></td></tr><tr><td>11/19</td><td>Invited Speaker</td><td>Cellular immune therapies</td><td>Michael Birnbaum</td><td>Professor</td><td>MIT</td><td></td></tr><tr><td>11/21</td><td></td><td>Discussion of cellular immune therapies</td><td></td><td></td><td></td><td></td></tr><tr><td>11/26</td><td>No class</td><td></td><td></td><td></td><td></td><td></td></tr><tr><td>11/28</td><td>Holiday</td><td>Enjoy the Holiday!</td><td></td><td></td><td></td><td></td></tr><tr><td>12/3</td><td>Project Presentations</td><td></td><td></td><td></td><td></td><td></td></tr><tr><td>12/5</td><td>Project Presentations</td><td></td><td></td><td></td><td></td><td></td></tr><tr><td>12/10</td><td>Project Presentations</td><td></td><td></td><td></td><td></td><td></td></tr>\n",
      "</table>\n"
     ]
    }
   ],
   "source": [
    "print(f\"\"\"\n",
    "<table class=\"table\">\n",
    "    {\"\".join([f\"<th>{v}</th>\" for v in df.columns])}\n",
    "    {\"\".join([f\"<tr>{l}</tr>\" for l in df.apply(lambda x:\"\".join([f\"<td>{v}</td>\" for v in x]), axis =1)])}\n",
    "</table>\"\"\")"
   ]
  },
  {
   "cell_type": "code",
   "execution_count": 43,
   "metadata": {},
   "outputs": [
    {
     "data": {
      "text/plain": [
       "0     <li><a href=\"https://doi.org/10.1038/s41591-01...\n",
       "1                                                      \n",
       "2                                                      \n",
       "3     <li><a href=\"https://www.nature.com/articles/s...\n",
       "4                                                      \n",
       "5                                                      \n",
       "6                                                      \n",
       "7                                                      \n",
       "8                                                      \n",
       "9                                                      \n",
       "10    <li><a href=\"https://www.ncbi.nlm.nih.gov/m/pu...\n",
       "11                                                     \n",
       "12    <li><a href=\"https://www.nature.com/articles/n...\n",
       "13                                                     \n",
       "14                                                     \n",
       "15                                                     \n",
       "16                                                     \n",
       "17    <li><a href=\"https://www.sciencedirect.com/sci...\n",
       "18                                                     \n",
       "19                                                     \n",
       "20                                                     \n",
       "21                                                     \n",
       "22                                                     \n",
       "23                                                     \n",
       "24                                                     \n",
       "25                                                     \n",
       "26                                                     \n",
       "27                                                     \n",
       "Name: Papers, dtype: object"
      ]
     },
     "execution_count": 43,
     "metadata": {},
     "output_type": "execute_result"
    }
   ],
   "source": [
    "df[\"Papers\"].apply(lambda x: \"<ul>\"+''.join([f'<li><a href=\"{e}\">{e}</a></li>' for e in x.split(\"\\n\")]+\"</ul>\" if x.strip()!= \"\" else \"\")}\n"
   ]
  },
  {
   "cell_type": "code",
   "execution_count": null,
   "metadata": {},
   "outputs": [],
   "source": []
  }
 ],
 "metadata": {
  "kernelspec": {
   "display_name": "Python 3",
   "language": "python",
   "name": "python3"
  },
  "language_info": {
   "codemirror_mode": {
    "name": "ipython",
    "version": 3
   },
   "file_extension": ".py",
   "mimetype": "text/x-python",
   "name": "python",
   "nbconvert_exporter": "python",
   "pygments_lexer": "ipython3",
   "version": "3.7.3"
  }
 },
 "nbformat": 4,
 "nbformat_minor": 2
}
